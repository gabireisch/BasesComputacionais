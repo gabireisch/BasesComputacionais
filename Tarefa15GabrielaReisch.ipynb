{
  "nbformat": 4,
  "nbformat_minor": 0,
  "metadata": {
    "colab": {
      "provenance": [],
      "authorship_tag": "ABX9TyNDU7UPx6gggd2rI+baEDkg",
      "include_colab_link": true
    },
    "kernelspec": {
      "name": "python3",
      "display_name": "Python 3"
    },
    "language_info": {
      "name": "python"
    }
  },
  "cells": [
    {
      "cell_type": "markdown",
      "metadata": {
        "id": "view-in-github",
        "colab_type": "text"
      },
      "source": [
        "<a href=\"https://colab.research.google.com/github/gabireisch/BasesComputacionais/blob/master/Tarefa15GabrielaReisch.ipynb\" target=\"_parent\"><img src=\"https://colab.research.google.com/assets/colab-badge.svg\" alt=\"Open In Colab\"/></a>"
      ]
    },
    {
      "cell_type": "code",
      "execution_count": 2,
      "metadata": {
        "colab": {
          "base_uri": "https://localhost:8080/"
        },
        "id": "s0Pq_Pkp1bhW",
        "outputId": "ccffacd9-389b-4c0a-b6d2-d38317cce6f2"
      },
      "outputs": [
        {
          "output_type": "stream",
          "name": "stdout",
          "text": [
            "9.1 não está no intervalo [-2.5;6.3]\n",
            "False\n",
            "2.2 está no intervalo [-10;7]\n",
            "True\n",
            "8.1 não está no intervalo [67.2;87.2]\n",
            "False\n"
          ]
        }
      ],
      "source": [
        "#Gabriela Reisch, RA 11202230747\n",
        "\n",
        "import numpy as np #importar a biblioteca numpy\n",
        "def estaNoIntervalo (a,b,x): #definir a função que recebe os valores a, b e x.\n",
        "  r = x > a and x < b #se x está entre a e b\n",
        "  if r == True :\n",
        "    print(f'{x} está no intervalo [{a};{b}]') \n",
        "  else: \n",
        "    print(f'{x} não está no intervalo [{a};{b}]') \n",
        "  print(r)\n",
        "  return r\n",
        "\n",
        "#valores para teste\n",
        "a = [-2.5,-10,67.2] \n",
        "b = [6.3,7,87.2]\n",
        "x = [9.1,2.2,8.1] \n",
        "\n",
        "#testes\n",
        "for i in range (0,3):\n",
        "  estaNoIntervalo (a[i],b[i],x[i])"
      ]
    }
  ]
}